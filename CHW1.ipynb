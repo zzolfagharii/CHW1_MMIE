{
 "cells": [
  {
   "cell_type": "markdown",
   "metadata": {
    "id": "6DjNbXa-VC9M"
   },
   "source": [
    "<h1 align=\"center\">Mathematical Methods In Engineering - 25872</h1>\n",
    "<h4 align=\"center\">Dr. Amiri</h4>\n",
    "<h4 align=\"center\">Sharif University of Technology, Fall 2023</h4>\n",
    "<h4 align=\"center\">Python Assignment 1</h4>\n",
    "<h4 align=\"center\">feel free to ask your questions via telegram,\n",
    "\n",
    "questions 1,4 : @BeNameBalasari and questions 2,3,5 : @maahmoradi"
   ]
  },
  {
   "cell_type": "markdown",
   "metadata": {},
   "source": [
    "You should write your code in the <font color='green'>Code Cell</font> and then run the <font color='green'>Evaluation Cell</font> to check the output of your code.<br>\n",
    "<font color='red'>**Please do not edit the existing codes.**</font>"
   ]
  },
  {
   "cell_type": "markdown",
   "metadata": {
    "id": "bggG3YqIVC9U"
   },
   "source": [
    "## 1. Introduction to matrices\n",
    "In this question, we want to get familiar with performing simple matrix operations and obtaining special features of matrices in Python <br>\n",
    "#### 1-1-  Vector P-Norm\n",
    " Let $p\\geq 1$  be  a real   number . The  p-norm ( also called \n",
    "$\\ell ^{p}$-norm) of  vector \n",
    "${\\displaystyle \\mathbf {x} =(x_{1},\\ldots ,x_{n})}$  is : \n",
    "${\\displaystyle \\|\\mathbf {x} \\|_{p}:=\\left(\\sum _{i=1}^{n}\\left|x_{i}\\right|^{p}\\right)^{1/p}}$ and\n",
    "${\\displaystyle \\|\\mathbf {x} \\|_{\\infty}:=max(|x_1| , |x_2| , \\cdots ,|x_n|)}$ \n",
    "> Write a function that takes a vector and p as input and gives p-norm as output then use it to calculate the norm-3 of the  following vector ( if the p is np.inf the function should give the infinity norm of the matrix ) :\n",
    "$$\n",
    "x = \\left(\\begin{array}{cc} \n",
    "-3.0\\\\ 1.0 \\\\2.0\n",
    "\\end{array}\\right)\n",
    "$$\n",
    "> then use np.linalg.norm to check your answer "
   ]
  },
  {
   "cell_type": "code",
   "execution_count": 1,
   "metadata": {
    "ExecuteTime": {
     "end_time": "2023-11-17T17:07:41.992026Z",
     "start_time": "2023-11-17T17:07:41.874716Z"
    }
   },
   "outputs": [],
   "source": [
    "# import required packages\n",
    "import numpy as np\n",
    "import random\n",
    "random.seed(1234)"
   ]
  },
  {
   "cell_type": "code",
   "execution_count": 2,
   "metadata": {
    "ExecuteTime": {
     "end_time": "2023-11-17T17:07:42.061042Z",
     "start_time": "2023-11-17T17:07:42.054784Z"
    },
    "id": "ZzFnxtOIVC9W"
   },
   "outputs": [
    {
     "name": "stdout",
     "output_type": "stream",
     "text": [
      "4.284040351563168 \n",
      " 4.284040351563168\n"
     ]
    }
   ],
   "source": [
    "# Code cell\n",
    "def pnorm(x, p):\n",
    "        # write your code here\n",
    "        x1=x;\n",
    "        for i in range(p-1):\n",
    "         x1=np.multiply(x1,x);\n",
    "        x2=np.abs(x1)\n",
    "        summ=sum(x2);\n",
    "        norm=pow(summ,1/p)\n",
    "        return norm\n",
    "y=[3,-3,2,2.5,-1];\n",
    "p=3;\n",
    "print(pnorm(y,p),\"\\n\",np.linalg.norm(y,3))"
   ]
  },
  {
   "cell_type": "markdown",
   "metadata": {},
   "source": [
    "#### 1-2- Matrix Norm\n",
    " The \n",
    " operator  norm of matrix $ \\mathbf{A}  $ is : \n",
    "${\\displaystyle \\|\\mathbf {A} \\|:=\\max\\limits_{x\\neq 0}\\left(\\frac{||Ax||}{||x||}\\right)}$\n",
    "\n",
    "and  The Frobenius  norm  is defined  so \n",
    "that   for  every  square  matrix $ \\mathbf{A} $ : ${\\displaystyle \\|\\mathbf {A} \\|_F:=\\left(\\sum_{i,j=1}^{n}(|a_{ij}|^2)\\right)^\\frac{1}{2}}$\n",
    "\n",
    "> Write a function that takes a Matrix  as input and gives frobenius norm as output then use it to calculate the norm of the  following Matrix :\n",
    "$$\n",
    "A = \\begin{bmatrix}\n",
    "    7 & 5 & 1\\\\\n",
    "    1 & 7 & 1\\\\\n",
    "    5 & 5 & 7\n",
    "\\end{bmatrix}\n",
    "$$\n",
    "> then use np.linalg.norm to check your answer and use it to calculate the operator norm of A "
   ]
  },
  {
   "cell_type": "code",
   "execution_count": 3,
   "metadata": {
    "ExecuteTime": {
     "end_time": "2023-11-17T17:07:43.615401Z",
     "start_time": "2023-11-17T17:07:43.609069Z"
    }
   },
   "outputs": [
    {
     "name": "stdout",
     "output_type": "stream",
     "text": [
      "15.0 \n",
      " 15.0\n"
     ]
    }
   ],
   "source": [
    "# Code cell\n",
    "def fnorm(A):\n",
    "    AT = np.transpose(A)\n",
    "    B = np.matmul(A,AT)\n",
    "    trace = np.matrix.trace(B)\n",
    "    f_norm = pow(trace,1/2)\n",
    "        # write your code here\n",
    "    return f_norm\n",
    "A=[[7,5,1],[1,7,1],[5,5,7]]\n",
    "print(fnorm(A),\"\\n\",np.linalg.norm(A))"
   ]
  },
  {
   "cell_type": "markdown",
   "metadata": {},
   "source": [
    "#### 1-3- Matrix Determinant And Matrix inverse \n",
    "Laplace expansion expresses the determinant of a matrix \n",
    "A recursively in terms of determinants of smaller matrices, known as its minors. The minor \n",
    ", $M_{i,j}$ is defined to be the determinant of the \n",
    "${\\displaystyle (n-1)\\times (n-1)}$ matrix that results from \n",
    "A by removing the \n",
    "i-th row and the \n",
    "j-th column. The expression \n",
    "${\\displaystyle (-1)^{i+j}M_{i,j}}$  is known as a cofactor. For every \n",
    "i, one has the equality :\n",
    "$$\n",
    "det(\\mathbf{A})=\\sum_{j=1}^n\\left((-1)^{i+j}a_{ij}M_{ij}\\right)\n",
    "$$\n",
    "> Write a function that takes a Matrix  as input and gives Determinant as output then use it to calculate the Determinant of the  following Matrix :\n",
    "$$\n",
    "A = \\begin{bmatrix}\n",
    "    7 & 5 & 1\\\\\n",
    "    1 & 7 & 1\\\\\n",
    "    5 & 5 & 7\n",
    "\\end{bmatrix}\n",
    "$$\n",
    "> then use np.linalg.det to check your answer "
   ]
  },
  {
   "cell_type": "code",
   "execution_count": 4,
   "metadata": {
    "ExecuteTime": {
     "end_time": "2023-11-17T17:07:44.911842Z",
     "start_time": "2023-11-17T17:07:44.901180Z"
    }
   },
   "outputs": [
    {
     "name": "stdout",
     "output_type": "stream",
     "text": [
      "268 267.99999999999994\n"
     ]
    }
   ],
   "source": [
    "# Code cell\n",
    "\n",
    "def det(A):\n",
    "    total=0;\n",
    "    indices = list(range(len(A))) \n",
    "    if len(A) == 2 and len(A[0]) == 2:\n",
    "        val = A[0][0] * A[1][1] - A[1][0] * A[0][1]\n",
    "        return val\n",
    "    for fc in indices: \n",
    "        As = A\n",
    "        As = As[1:]\n",
    "        height = len(As)\n",
    "        for i in range(height): \n",
    "            As[i] = As[i][0:fc] + As[i][fc+1:] \n",
    "        sign = (-1) ** (fc % 2)\n",
    "        sub_det = det(As)\n",
    "        total += sign * A[0][fc] * sub_det \n",
    "    return total\n",
    "A=[[7,5,1],[1,7,1],[5,5,7]]\n",
    "print(det(A),np.linalg.det(A))"
   ]
  },
  {
   "cell_type": "markdown",
   "metadata": {},
   "source": [
    "The inverse of a Matrix is defined as : \n",
    "$$\n",
    "\\mathbf{A}^{-1}=\\frac{adj(A)}{det(A)}\n",
    "$$\n",
    "The adjugate of $\\mathbf{A} \\ adj(\\mathbf{A})$ is the transpose of $\\mathbf{C}$, that is, the n × n matrix whose (i, j) entry is the (j, i) cofactor of A,\n",
    "$$\n",
    "adj(\\mathbf{A})=\\mathbf{C}^T=\\left((-1)^{i+j}M_{ji}\\right)_{1 \\leq i,j \\leq n}\n",
    "$$\n",
    "> Write a function that takes a Matrix  as input and gives inverse of Matrix as output then use it to calculate the inverse of the  following Matrix :\n",
    "$$\n",
    "A = \\begin{bmatrix}\n",
    "    7 & 5 & 1\\\\\n",
    "    1 & 7 & 1\\\\\n",
    "    5 & 5 & 7\n",
    "\\end{bmatrix}\n",
    "$$\n",
    "> then use np.linalg.inv to check your answer "
   ]
  },
  {
   "cell_type": "code",
   "execution_count": 60,
   "metadata": {
    "ExecuteTime": {
     "end_time": "2023-11-17T19:45:05.871501Z",
     "start_time": "2023-11-17T19:45:05.865138Z"
    }
   },
   "outputs": [
    {
     "name": "stdout",
     "output_type": "stream",
     "text": [
      "[[ 0.1641791  -0.1119403  -0.00746269]\n",
      " [-0.00746269  0.1641791  -0.02238806]\n",
      " [-0.1119403  -0.03731343  0.1641791 ]] \n",
      " [[ 0.1641791  -0.1119403  -0.00746269]\n",
      " [-0.00746269  0.1641791  -0.02238806]\n",
      " [-0.1119403  -0.03731343  0.1641791 ]]\n"
     ]
    }
   ],
   "source": [
    "# Code cell\n",
    "def inv(A):\n",
    "    N = np.shape(A)\n",
    "    inv=np.zeros(N)\n",
    "    for i in range(N[0]):\n",
    "        for j in range(N[1]):\n",
    "            temp = np.delete(A.copy(),i,0)\n",
    "            temp = np.delete(temp,j,1)\n",
    "            \n",
    "            sgn=(i-j)%2\n",
    "            if sgn :\n",
    "                inv[j][i] = -det(temp)\n",
    "            else :\n",
    "                inv[j][i] = det(temp)\n",
    "    inv/=det(A)\n",
    "    return inv\n",
    "A=[[7,5,1],[1,7,1],[5,5,7]]\n",
    "print(inv(A),\"\\n\",np.linalg.inv(A))"
   ]
  },
  {
   "cell_type": "markdown",
   "metadata": {},
   "source": [
    "## 2. Gauss-Jordan elimination\n",
    "#### 2-1-  Implementation\n",
    "The Gauss-Jordan Elimination method is an algorithm to solve a linear system of equations. This method solves the system by representing it as an augmented matrix, reducing it using row operations, and expressing the system in reduced row-echelon form to find the values of the variables. \\\n",
    "The function gauss_jordan_elimination takes two arguments: the matrix A representing the coefficients of the equations, and the vector b representing the constants on the right-hand side of the equations. It sets flag to 1 and returns the solution vector x if exists, else sets flag to 0 in case of 'No Solution' or 'Infinite Solutions' and prints the corresponding case.\n",
    "\n",
    "Here's an example of a system of equations $\\textbf{Ax = b}$\n",
    "\n",
    "the inputs of the function :\n",
    "\n",
    "$$\n",
    "A = \\begin{bmatrix}\n",
    "    2  & 1  & 5 \\\\\n",
    "    4  & 4  & -4 \\\\\n",
    "    1 & 3 & 1 \n",
    "\\end{bmatrix}\n",
    "$$\n",
    "\n",
    "$$\n",
    "b = \\begin{bmatrix}\n",
    "    8  \\\\\n",
    "    4  \\\\\n",
    "    5 \n",
    "\\end{bmatrix}\n",
    "$$\n",
    "\n",
    "the corresponding output :\n",
    "\n",
    "$$\n",
    "x = \\begin{bmatrix}\n",
    "    1  \\\\\n",
    "    1  \\\\\n",
    "    1 \n",
    "\\end{bmatrix}\n",
    "$$"
   ]
  },
  {
   "cell_type": "code",
   "execution_count": 6,
   "metadata": {
    "ExecuteTime": {
     "end_time": "2023-11-17T17:08:34.568755Z",
     "start_time": "2023-11-17T17:08:34.565316Z"
    }
   },
   "outputs": [],
   "source": [
    "# import required packages\n",
    "import numpy as np\n",
    "import time"
   ]
  },
  {
   "cell_type": "code",
   "execution_count": 7,
   "metadata": {
    "ExecuteTime": {
     "end_time": "2023-11-17T17:08:36.319222Z",
     "start_time": "2023-11-17T17:08:36.309103Z"
    }
   },
   "outputs": [],
   "source": [
    "# Code cell\n",
    "def gauss_jordan_elimination(A, b):\n",
    "    k=0\n",
    "    i=0\n",
    "    flag=1\n",
    "    x=None\n",
    "    #A=A.astype(np.double)\n",
    "    #b=float(b)\n",
    "    a=np.concatenate((A,b),axis=1).astype(float)\n",
    "    n = np.shape(a)[0]\n",
    "    for i in range (n):\n",
    "        if a[i,i]==0 :\n",
    "            for k in range(i+1,n):\n",
    "                if a[k,i]!=0:\n",
    "                    temp = a[k][i].copy()\n",
    "                    a[k][i] = a[i][i]\n",
    "                    a[i][i] = temp\n",
    "                    break\n",
    "        if k == n-1 :\n",
    "            continue\n",
    "        else:\n",
    "            pivot = a[i,i]\n",
    "        for j in range (i+1,n):\n",
    "            if a[i,i]!=0 :\n",
    "                multiplier = a[j,i] / a[i,i]\n",
    "                a[j] = a[j]- multiplier*a[i]\n",
    "    for i in range (n):\n",
    "        for j in range (0,i):\n",
    "                if a[i,i]!=0 :\n",
    "                    multiplier = a[j,i] / a[i,i]\n",
    "                    a[j] = a[j]- multiplier*a[i]\n",
    "    for i in range (n):\n",
    "        for j in range (n):\n",
    "            if abs(a[i,j])<1e-5 :\n",
    "                a[i,j]=0\n",
    "    for i in range (n):\n",
    "        if a[i,i]!=0 :\n",
    "            a[i]/=a[i,i]\n",
    "        elif np.sum(a[i,:])==0:\n",
    "            print(\"infinite number of solutions\")\n",
    "            flag=0\n",
    "            break\n",
    "        else:\n",
    "            print(\"system has no solution\")\n",
    "            flag=0\n",
    "            break\n",
    "    if flag == 1:\n",
    "        x=a[:,n]\n",
    "    #print(np.matmul(A,x))\n",
    "    #print(b)\n",
    "    #print(flag)\n",
    "    return x, flag"
   ]
  },
  {
   "cell_type": "code",
   "execution_count": 8,
   "metadata": {
    "ExecuteTime": {
     "end_time": "2023-11-17T17:08:39.431152Z",
     "start_time": "2023-11-17T17:08:39.388688Z"
    }
   },
   "outputs": [
    {
     "name": "stdout",
     "output_type": "stream",
     "text": [
      "status: successful, time elapsed: 0.0 seconds\n",
      "system has no solution\n",
      "status: successful, time elapsed: 0.0 seconds\n"
     ]
    }
   ],
   "source": [
    "# Evaluation Cell\n",
    "n = 10\n",
    "A = np.zeros((10,10))\n",
    "b = np.random.randint(100, size=(10))\n",
    "while np.linalg.matrix_rank(A) != n: \n",
    "  A = np.random.randint(0,100,(n, n))\n",
    "s = time.time()\n",
    "elapsed = time.time() - s\n",
    "x, flag = gauss_jordan_elimination(A,np.transpose([b]))\n",
    "assert flag == 1, \"flag's not set correctly\"\n",
    "assert np.linalg.norm( A @ x - b) < 1e-7, \"Ax = b is not satisfied\"\n",
    "print(f'status: successful, time elapsed: {np.round(elapsed, 5)} seconds')\n",
    "b = np.random.randint(100, size=(10))\n",
    "A = np.random.randint(0, 100, (n, n))\n",
    "U, S, V = np.linalg.svd(A)\n",
    "r = 9  \n",
    "S[r:] = 0 \n",
    "A = U.dot(np.diag(S)).dot(V)\n",
    "b = np.random.randint(100, size=(10))\n",
    "s = time.time()\n",
    "elapsed = time.time() - s\n",
    "x, flag = gauss_jordan_elimination(A,np.transpose([b]))\n",
    "assert flag == 0, \"flag's not set correctly\"\n",
    "print(f'status: successful, time elapsed: {np.round(elapsed, 5)} seconds')"
   ]
  },
  {
   "cell_type": "markdown",
   "metadata": {},
   "source": [
    "## 3. Statistics on random matrices\n",
    "\n",
    "On average, a random matrix is invertible. But what if the random matrix has entries that are either 0 or 1 with equal probability? What is the probability that a 5 by 5 matrix whose entries are all zeros or ones is singular? And what is the average number of pivot columns? That is what you will find out in this exercise.\n",
    "\n",
    "Create random integer matrices whose entries are either 0 or 1. To find the number of pivot columns of a matrix A, complete the function getrank below.\n"
   ]
  },
  {
   "cell_type": "code",
   "execution_count": 9,
   "metadata": {
    "ExecuteTime": {
     "end_time": "2023-11-17T17:08:43.025132Z",
     "start_time": "2023-11-17T17:08:43.017688Z"
    }
   },
   "outputs": [],
   "source": [
    "# Code cell\n",
    "def getrank(A):\n",
    "    \n",
    "    i=0\n",
    "    flag=1\n",
    "    a=A.copy()\n",
    "    n = np.shape(a)[0]\n",
    "    r=0\n",
    "    x=np.zeros(n)\n",
    "    for i in range (n):\n",
    "        #print(a)\n",
    "        for p in range(r,n):\n",
    "                k=i+1\n",
    "                while a[i,p]==0 and k!=n:\n",
    "                    if a[k,p]!=0:\n",
    "                       \n",
    "                        temp = a[i,:].copy()\n",
    "                        #print(temp)\n",
    "                        a[i,:] = a[k,:]\n",
    "                        a[k,:] = temp\n",
    "                    #print(a[:,p])\n",
    "                    #print(a)\n",
    "                    k+=1\n",
    "                if a[i,p]!=0 :\n",
    "                    x[i]=1\n",
    "                    pivot = a[i,p]\n",
    "                    for j in range (i+1,n):\n",
    "                        if a[i,p]!=0 :\n",
    "                            multiplier = a[j,i] / pivot\n",
    "                            a[j] = a[j]- multiplier*a[i]\n",
    "                    break\n",
    "        r=p+1\n",
    "    for i in range (n):\n",
    "        for j in range (0,i):\n",
    "                if a[i,p]!=0 :\n",
    "                    multiplier = a[j,i] / a[i,p]\n",
    "                    a[j] = a[j]- multiplier*a[i]\n",
    "    #for i in range (n):\n",
    "     #   for j in range (n):\n",
    "      #      if abs(a[i,j])<1e-5 :\n",
    "       #         a[i,j]=0\n",
    "    rank = 0\n",
    "    for i in range (n):\n",
    "        if x[i]:\n",
    "            rank+=1\n",
    "    return rank \n",
    "#A=np.matrix([[0,0,1],[0,1,1],[0,0,0]])\n",
    "#getrank(A)"
   ]
  },
  {
   "cell_type": "code",
   "execution_count": 163,
   "metadata": {
    "ExecuteTime": {
     "end_time": "2023-11-10T18:35:28.730359Z",
     "start_time": "2023-11-10T18:35:28.450216Z"
    },
    "scrolled": false
   },
   "outputs": [
    {
     "name": "stdout",
     "output_type": "stream",
     "text": [
      "[ 4.3 , \t 0.6 ]\n"
     ]
    }
   ],
   "source": [
    "### Code cell\n",
    "num = 1000 # Number of random trials \n",
    "n =5 #size of matrix\n",
    "s=np.zeros(num)\n",
    "s1=np.zeros(num)\n",
    "singular=0\n",
    "ss=0\n",
    "for i in range (num):\n",
    "    A = np.random.randint(2,size=(n,n))\n",
    "    A = np.matrix(A).astype(float)\n",
    "    s[i]=getrank(A)\n",
    "    #if s[i] != np.linalg.matrix_rank(A):\n",
    "        #print(A)\n",
    "    #s1[i]=np.linalg.matrix_rank(A)\n",
    "    if s[i]<n:\n",
    "        singular+=1\n",
    "    if s1[i]<n:\n",
    "        ss+=1\n",
    "sin_p = singular/num\n",
    "avg_pivot = np.average(s)\n",
    "\n",
    "print(\"[\",round(avg_pivot,1),\",\",\"\\t\",round(sin_p,1),\"]\")\n",
    "\n",
    "#this part was used to evaluate the accuracy of the function\n",
    "#s_p = ss/num\n",
    "#print(\"[\",np.average(s1),\",\",\"\\t\",s_p,\"]\")\n",
    "\n",
    "\n",
    "# (avg number of pivots, probability of being singular)\n",
    "# in the format [a.b,c.d] where you rounded the answer to one decimal place.\n",
    "\n",
    "# write your code here"
   ]
  },
  {
   "cell_type": "markdown",
   "metadata": {},
   "source": [
    "We've looked at random matrices whose entries are 0 or 1. But how does size effect the rank and the probability of being singular? Repeat the previous exercise for 10 by 10 matrices with entries that are 0 or 1.\n",
    "\n",
    "Explore and plot the probability of singularity and the average number of pivots for different sizes of random matrices. Can you determine how this probability depends on the size of the matrix? You might try to find the probability of a 10 by 10 random matrix with entries 0 or 1 has rank 10, 9, 8, 7 etc. You can check your probabilities against the expected value to see if your probabilities match your observations. You might try to connect these probabilities with determinant formulas to see if you can predict the numbers from other formulas and prove a relationship. Happy explorations!\n",
    "\n",
    " guess what happens as $n \\rightarrow \\infty $\n",
    ", but only run up to 80"
   ]
  },
  {
   "cell_type": "code",
   "execution_count": 10,
   "metadata": {
    "ExecuteTime": {
     "end_time": "2023-11-17T17:10:09.386864Z",
     "start_time": "2023-11-17T17:08:46.441426Z"
    }
   },
   "outputs": [
    {
     "name": "stdout",
     "output_type": "stream",
     "text": [
      "[ [4.25, 9.706, 19.986, 39.968, 79.982] , \t [0.652, 0.278, 0.012, 0.008, 0.002] ] \n",
      "\n"
     ]
    },
    {
     "data": {
      "text/plain": [
       "[<matplotlib.lines.Line2D at 0x266a9ddd950>]"
      ]
     },
     "execution_count": 10,
     "metadata": {},
     "output_type": "execute_result"
    },
    {
     "data": {
      "image/png": "[encoded data removed]",
      "text/plain": [
       "<Figure size 640x480 with 1 Axes>"
      ]
     },
     "metadata": {},
     "output_type": "display_data"
    }
   ],
   "source": [
    "# Code cell\n",
    "from matplotlib import pyplot as plt\n",
    "nvalues = [5,10,20,40,80]\n",
    "num = 500\n",
    "s=np.zeros([num,5])\n",
    "f=0\n",
    "singular=[0,0,0,0,0]\n",
    "sin_p = [0,0,0,0,0]\n",
    "avg_pivot=[0,0,0,0,0]\n",
    "for n in nvalues :\n",
    "    for i in range (num):\n",
    "        A = np.random.randint(2,size=(n,n))\n",
    "        A = np.matrix(A).astype(float)\n",
    "        s[i,f]=getrank(A)\n",
    "        \n",
    "        #s1[i]=np.linalg.matrix_rank(A)\n",
    "        if s[i,f]<n:\n",
    "            singular[f]+=1\n",
    "        #if s1[i]<n:\n",
    "        #    ss+=1\n",
    "    sin_p[f] = singular[f]/num\n",
    "    avg_pivot[f] = np.average(s[:,f])\n",
    "    f+=1\n",
    "print(\"[\",avg_pivot,\",\",\"\\t\",sin_p,\"]\",\"\\n\")  \n",
    "plt.plot(nvalues,sin_p)"
   ]
  },
  {
   "cell_type": "markdown",
   "metadata": {},
   "source": [
    "## 4. Application of Cholesky decomposition\n",
    "#### 4-1-  Cholesky decomposition\n",
    "In linear algebra, LU decomposition factors a matrix ($\\textbf{A} :n \\times n$) as the product of a lower triangular matrix ($\\textbf{L} :n \\times n$) and an upper triangular matrix ($\\textbf{U} :n \\times n$). The product sometimes includes a permutation matrix ($\\textbf{P} :n \\times n$) as well.\n",
    "$$ \\textbf{PA} = \\textbf{LU} $$\n",
    "We know that the elements on the main diagonal of the $\\textbf{U}$ are the pivots. So $\\textbf{U}$ can be decomposed into a diagonal matrix ($\\textbf{D} :n \\times n$) with elements whose pivots are on the main diagonal and a normalized $\\textbf{U}$ matrix.\n",
    "$$ \\textbf{PA} = \\textbf{LDU}  $$\n",
    "if the A is symmetric then we have the Cholesky decomposition :\n",
    "$$\n",
    "\\mathbf{A}^T=\\mathbf{A} \\longrightarrow \\mathbf{A} =LD^\\frac{1}{2}D^\\frac{1}{2} L^T= (LD^\\frac{1}{2})(LD^\\frac{1}{2})^T=L'{L'} ^T\n",
    "$$\n",
    "There are various methods for calculating the Cholesky decomposition one of them is $\\bold {Cholesky–Banachiewicz}$ algorithm :\n",
    "$$\n",
    "A=LL^T=\\begin{bmatrix}\n",
    "    L_{11}& 0 & 0\\\\\n",
    "    L_{21} & L_{22} & 0\\\\\n",
    "    L_{31}  & L_{32}  & L_{33} \n",
    "\\end{bmatrix}\\begin{bmatrix}\n",
    "    L_{11}  & L_{21}  & L_{31} \\\\\n",
    "    0  & L_{22}  & L_{32} \\\\\n",
    "    0 & 0 & L_{33} \n",
    "\\end{bmatrix}=\\begin{bmatrix}\n",
    "    L_{11}^2  &   & (symmetric) \\\\\n",
    "    L_{21}L_{11}  & L_{21}^2+L_{22}^2  &  \\\\\n",
    "    L_{31}L_{11}& L_{31}L_{21}+L_{32}L_{22}& L_{33}^2+L_{32}^2+L_{31}^2 \n",
    "\\end{bmatrix}\n",
    "$$\n",
    "\n",
    "and therefore the following formulas for the entries of L:\n",
    "\n",
    "$$\n",
    "L_{jj}=\\sqrt{A_{jj}-\\sum_{k=1}^{j-1}L_{jk}^2} \\\\\n",
    "\\\\\n",
    "L_{i,j}=\\frac{\\left(A_{ij}-\\sum_{k=1}^{j-1}L_{jk}L_{ik}\\right)}{L_{jj}} \\  \\ for \\ \\ i>j\n",
    "$$\n",
    "\n",
    "> Use this algorithm to write a function that takes a matrix and gives its cholesky decomposition. also print the output for the following matrix :\n",
    "$$\n",
    "\\mathbf{C}=\n",
    "\\begin{bmatrix}\n",
    "    1 & 0.7 \\\\\n",
    "    0.7 & 1\n",
    "\\end{bmatrix}\n",
    "$$ \n",
    "\n",
    "\n",
    "> then use np.linalg.cholesky to check your answer "
   ]
  },
  {
   "cell_type": "code",
   "execution_count": 21,
   "metadata": {
    "ExecuteTime": {
     "end_time": "2023-11-17T17:24:59.751524Z",
     "start_time": "2023-11-17T17:24:59.745112Z"
    }
   },
   "outputs": [
    {
     "name": "stdout",
     "output_type": "stream",
     "text": [
      "[[1.         0.        ]\n",
      " [0.7        0.71414284]] \n",
      " [[1.         0.        ]\n",
      " [0.7        0.71414284]]\n"
     ]
    }
   ],
   "source": [
    "# Code cell\n",
    "def Cholesky(A):\n",
    "    N = np.shape(A)\n",
    "    L = np.zeros(N)\n",
    "    summ=0\n",
    "    for i in range (N[0]):\n",
    "        for j in range (i):\n",
    "            summ=0\n",
    "            k=0\n",
    "            while k<j :\n",
    "                summ+=L[j][k]*L[i][k]\n",
    "                k+=1\n",
    "            L[i][j]=(A[i][j]-summ)/L[j][j]\n",
    "        k=0\n",
    "        summ=0\n",
    "        while k<i :\n",
    "            summ+=L[i][k]**2\n",
    "            k+=1\n",
    "        L[i][i]=np.sqrt(A[i][i]-summ)\n",
    "    return L\n",
    "print(Cholesky([[1,0.7],[0.7,1]]),\"\\n\",np.linalg.cholesky([[1,0.7],[0.7,1]]))"
   ]
  },
  {
   "cell_type": "markdown",
   "metadata": {},
   "source": [
    "#### 4-2-  Using Cholesky to generate correlated random numbers\n",
    "\n",
    "The co-variance Matrix of any random vector Y\n",
    " is given as $\\mathbf{E}(YY^T)$\n",
    ", where Y\n",
    " is a random column vector of size n×1\n",
    ". Now take a random vector, X\n",
    ", consisting of uncorrelated random variables with each random variable, $X_i$\n",
    ", having zero mean and unit variance 1\n",
    ". Since $X_i$\n",
    "'s are uncorrelated random variables with zero mean and unit variance, we have $\\mathbf{E}(X_i X_j^T)=δ_{ij}$\n",
    ". Hence,\n",
    "$$\n",
    "\\mathbf{E}(XX^T)=I\n",
    "$$\n",
    "To generate a random vector with a given covariance matrix $\\mathbf{C}$\n",
    ", look at the Cholesky decomposition of $C$\n",
    " i.e. $\\mathbf{C}=LL^T$\n",
    " \n",
    "Now look at the random vector $Z=LX$ :\n",
    "$$\n",
    "\\mathbf{E}(ZZ^T)=\\mathbf{E}\\left((LX)(LX)^T\\right)=L\\mathbf{E}(XX^T)L^T =LL^T=\\mathbf{C}\n",
    "$$\n",
    "Hence, the random vector $\\mathbf{Z}$\n",
    " has the desired co-variance matrix, $\\mathbf{C}$\n",
    "\n",
    " >Make the covarience matirx of $C$\n",
    "  $$\n",
    "\\mathbf{C}=\n",
    "\\begin{bmatrix}\n",
    "    1 & 0.7 \\\\\n",
    "    0.7 & 1\n",
    "\\end{bmatrix}\n",
    "$$ \n",
    "\n",
    " \n",
    " >Then we need another matrix with the desired standard deviation in the diagonal  $\\tau$\n",
    " $$\n",
    "\\mathbf{\\tau}=\n",
    "\\begin{bmatrix}\n",
    "    1 & 0 \\\\\n",
    "    0 & 2\n",
    "\\end{bmatrix}\n",
    "$$ \n",
    ">Then find the cholesky decomposition of $C$\n"
   ]
  },
  {
   "cell_type": "code",
   "execution_count": 31,
   "metadata": {
    "ExecuteTime": {
     "end_time": "2023-11-17T18:42:58.684144Z",
     "start_time": "2023-11-17T18:42:58.680365Z"
    }
   },
   "outputs": [
    {
     "name": "stdout",
     "output_type": "stream",
     "text": [
      "[[1.  0.7]\n",
      " [0.7 1. ]]\n"
     ]
    }
   ],
   "source": [
    "# Code cell\n",
    "C = np.array([[1, 0.7],[0.7, 1]])\n",
    "T = np.array([[1, 0],[0, 2]])\n",
    "L = Cholesky(C)\n",
    "LT = np.transpose(L)\n",
    "print(np.matmul(L,LT))"
   ]
  },
  {
   "cell_type": "markdown",
   "metadata": {},
   "source": [
    ">Now  generate values for 2 independent random variables and put them in  2*1000 matrix $X$ (1000 samples)\n",
    "\n",
    "you can use np.random.normal ( generates iid random variables each time )"
   ]
  },
  {
   "cell_type": "code",
   "execution_count": 32,
   "metadata": {
    "ExecuteTime": {
     "end_time": "2023-11-17T18:43:07.458764Z",
     "start_time": "2023-11-17T18:43:07.454883Z"
    }
   },
   "outputs": [],
   "source": [
    "# Code cell\n",
    "X1 = np.random.normal(0,1,1000)\n",
    "X2 = np.random.normal(0,1,1000)\n",
    "X = [np.transpose(X1),np.transpose(X2)]"
   ]
  },
  {
   "cell_type": "markdown",
   "metadata": {},
   "source": [
    ">then calculate $\\mathbf{Z}=\\Tau L X$ and then plot Z[1] in base of Z[0] and X[1] in base of X[0] "
   ]
  },
  {
   "cell_type": "code",
   "execution_count": 41,
   "metadata": {
    "ExecuteTime": {
     "end_time": "2023-11-17T18:52:38.495480Z",
     "start_time": "2023-11-17T18:52:38.151186Z"
    }
   },
   "outputs": [
    {
     "data": {
      "text/plain": [
       "Text(0.5, 1.0, 'X')"
      ]
     },
     "execution_count": 41,
     "metadata": {},
     "output_type": "execute_result"
    },
    {
     "data": {
      "image/png": "[encoded data removed]",
      "text/plain": [
       "<Figure size 640x480 with 2 Axes>"
      ]
     },
     "metadata": {},
     "output_type": "display_data"
    }
   ],
   "source": [
    "# Code cell\n",
    "import matplotlib.pyplot as plt\n",
    "Z = np.matmul(T,L)\n",
    "Z = np.matmul(Z,X)\n",
    "plt.subplot(1,2,1)\n",
    "plt.scatter(Z[1],Z[0])\n",
    "plt.title (\"Z\")\n",
    "plt.subplot(1,2,2)\n",
    "plt.scatter(X[1],X[0])\n",
    "plt.title(\"X\")"
   ]
  },
  {
   "cell_type": "markdown",
   "metadata": {},
   "source": [
    ">now  check the correlation in generated samples with using np.correlate"
   ]
  },
  {
   "cell_type": "code",
   "execution_count": 44,
   "metadata": {
    "ExecuteTime": {
     "end_time": "2023-11-17T18:55:54.111610Z",
     "start_time": "2023-11-17T18:55:54.106613Z"
    }
   },
   "outputs": [
    {
     "name": "stdout",
     "output_type": "stream",
     "text": [
      "corelation of X1 and X2 : [-0.05424202] \n",
      "\n",
      "corelation of X1 and X2 : [1.31938315] \n",
      "\n"
     ]
    }
   ],
   "source": [
    "# Code cell\n",
    "print (\"corelation of X1 and X2 :\",np.correlate(X1,X2)/1000,\"\\n\")\n",
    "print (\"corelation of X1 and X2 :\",np.correlate(Z[0],Z[1])/1000,\"\\n\")"
   ]
  },
  {
   "cell_type": "markdown",
   "metadata": {},
   "source": [
    "## 5. Graphs (bonus)\n",
    "\n",
    "I suggest running this question's code cells in google colab to install the $\\textbf{PyGSP}$ package by  simply running the following code cell"
   ]
  },
  {
   "cell_type": "code",
   "execution_count": 61,
   "metadata": {
    "ExecuteTime": {
     "end_time": "2023-11-17T19:45:37.345707Z",
     "start_time": "2023-11-17T19:45:31.213107Z"
    }
   },
   "outputs": [
    {
     "name": "stdout",
     "output_type": "stream",
     "text": [
      "Requirement already satisfied: pygsp in c:\\users\\zoli\\anaconda3\\lib\\site-packages (0.5.1)\n",
      "Requirement already satisfied: numpy in c:\\users\\zoli\\anaconda3\\lib\\site-packages (from pygsp) (1.24.3)\n",
      "Requirement already satisfied: scipy in c:\\users\\zoli\\anaconda3\\lib\\site-packages (from pygsp) (1.11.1)\n"
     ]
    }
   ],
   "source": [
    "!pip install pygsp"
   ]
  },
  {
   "cell_type": "markdown",
   "metadata": {},
   "source": [
    "\n",
    "<!-- ![]( graph.png) -->\n",
    "<div style=\"text-align:center\">\n",
    "    <img src=\"graph.png\" alt=\"Image\" />\n",
    "</div> \n",
    "\n",
    "\n",
    "For the directed graph above the adjacency matrix is : \n",
    "$\n",
    "A = \\begin{bmatrix}\n",
    "    0  & 1  & 1 & 0\\\\\n",
    "    -1  & 0  & 1 & 1 \\\\\n",
    "    -1 & -1 & 0 & 1 \\\\\n",
    "    0  & -1  & -1 & 0\n",
    "\\end{bmatrix}\n",
    "$ \n",
    "\n",
    "If we change the nodes numbering, the properties of the graph don't change yet the adjacency matrix changes. \n"
   ]
  },
  {
   "cell_type": "code",
   "execution_count": 45,
   "metadata": {
    "ExecuteTime": {
     "end_time": "2023-11-17T19:00:33.781981Z",
     "start_time": "2023-11-17T18:59:17.890969Z"
    }
   },
   "outputs": [
    {
     "ename": "ModuleNotFoundError",
     "evalue": "No module named 'cv2'",
     "output_type": "error",
     "traceback": [
      "\u001b[1;31m---------------------------------------------------------------------------\u001b[0m",
      "\u001b[1;31mModuleNotFoundError\u001b[0m                       Traceback (most recent call last)",
      "Cell \u001b[1;32mIn[45], line 5\u001b[0m\n\u001b[0;32m      3\u001b[0m \u001b[38;5;28;01mimport\u001b[39;00m \u001b[38;5;21;01mmatplotlib\u001b[39;00m\u001b[38;5;21;01m.\u001b[39;00m\u001b[38;5;21;01mpyplot\u001b[39;00m \u001b[38;5;28;01mas\u001b[39;00m \u001b[38;5;21;01mplt\u001b[39;00m\n\u001b[0;32m      4\u001b[0m \u001b[38;5;28;01mfrom\u001b[39;00m \u001b[38;5;21;01mpygsp\u001b[39;00m \u001b[38;5;28;01mimport\u001b[39;00m graphs, filters, plotting\n\u001b[1;32m----> 5\u001b[0m \u001b[38;5;28;01mimport\u001b[39;00m \u001b[38;5;21;01mcv2\u001b[39;00m\n",
      "\u001b[1;31mModuleNotFoundError\u001b[0m: No module named 'cv2'"
     ]
    }
   ],
   "source": [
    "# import required packages\n",
    "import numpy as np\n",
    "import matplotlib.pyplot as plt\n",
    "from pygsp import graphs, filters, plotting\n",
    "import cv2"
   ]
  },
  {
   "cell_type": "markdown",
   "metadata": {},
   "source": [
    "\n",
    "#### 5-1-  Introduction to graphs \n",
    ">construct the permutation matrix $\\textbf{P}$ by modifying the Identity matrix. then use it to number the graph's nodes in reverse order"
   ]
  },
  {
   "cell_type": "code",
   "execution_count": 68,
   "metadata": {
    "ExecuteTime": {
     "end_time": "2023-11-17T20:12:45.536601Z",
     "start_time": "2023-11-17T20:12:45.532241Z"
    }
   },
   "outputs": [],
   "source": [
    "# Code cell\n",
    "A = np.array([[0,1,1,0],[-1,0,1,1],[-1,-1,0,1],[0,-1,-1,0]])\n",
    "P = np.array([[0,0,0,1],[0,0,1,0],[0,1,0,0],[1,0,0,0]])\n",
    "x = np.matmul(P,A)\n",
    "A_modified = np.matmul(x,P)"
   ]
  },
  {
   "cell_type": "code",
   "execution_count": 69,
   "metadata": {
    "ExecuteTime": {
     "end_time": "2023-11-17T20:12:46.859440Z",
     "start_time": "2023-11-17T20:12:46.856048Z"
    }
   },
   "outputs": [],
   "source": [
    "# Evaluation Cell\n",
    "assert np.array_equal(A_modified, np.matrix('0 -1 -1 0; 1 0 -1 -1; 1 1 0 -1; 0 1 1 0')), \"wrong!\""
   ]
  },
  {
   "cell_type": "markdown",
   "metadata": {},
   "source": [
    "#### 5-2-  Graph image processing  \n",
    "\n",
    "Inpainting is a classical signal processing problem where we wish to fill in the missing values in a\n",
    "partially observed signal. This is here done in the context of image processing for inferring missing pixel values in\n",
    "an image. The signal in the image is considered to be the image matrix flattened while the image is modeled as a 2D grid graph.\n",
    "Inpainting for an image can be formulated as below:\n",
    "\n",
    "$$(M + \\alpha L)x = y$$\n",
    "\n",
    "where y is a partially observed graph signal (with missing values being 0), and M is a diagonal matrix that satisfies:\n",
    " $$ M(i, i)=   \\left\\{\n",
    "\\begin{array}{ll}\n",
    "      1, & if & y(i) & is & observed, \\\\\n",
    "      0, & if & y(i) & is & not & observed, \\\\\n",
    "\\end{array} \n",
    "\\right.  $$\n",
    "\n",
    "The Equation tries to find an x that nearly matches the observed values in y, and at the same time\n",
    "being smooth on the graph (the image here). The regularisation parameter α controls the trade-off between the data fidelity term and the\n",
    "smoothness prior. The solution can therefore be considered as an inpainted version of the partially observed signal."
   ]
  },
  {
   "cell_type": "markdown",
   "metadata": {},
   "source": [
    ">Use the cv2 package to load a grayscale version of the cameraman image with a relatively low resolution, 64 by 64, then display the image using matplotlib.pyplot\n",
    "\n",
    "- do not forget to convert RGB to gray to reduce the 3 color channels to one"
   ]
  },
  {
   "cell_type": "code",
   "execution_count": null,
   "metadata": {
    "ExecuteTime": {
     "end_time": "2023-11-10T05:07:07.629620Z",
     "start_time": "2023-11-10T05:07:07.629620Z"
    }
   },
   "outputs": [],
   "source": [
    "# Code cell"
   ]
  },
  {
   "cell_type": "markdown",
   "metadata": {},
   "source": [
    ">Now flatten the image matrix to get the signal\\\n",
    ">Then, construct the diagonal matrix M which has its diagonal 0 except for $p = 50%$ of its elements that are randomly set to 1\\\n",
    ">At last, apply the observasion matrix M to the signal and construct y "
   ]
  },
  {
   "cell_type": "code",
   "execution_count": null,
   "metadata": {
    "ExecuteTime": {
     "end_time": "2023-11-10T05:07:07.631616Z",
     "start_time": "2023-11-10T05:07:07.631616Z"
    }
   },
   "outputs": [],
   "source": [
    "# Code cell"
   ]
  },
  {
   "cell_type": "code",
   "execution_count": null,
   "metadata": {
    "ExecuteTime": {
     "end_time": "2023-11-10T05:07:07.634606Z",
     "start_time": "2023-11-10T05:07:07.634606Z"
    }
   },
   "outputs": [],
   "source": [
    "# do not edit this cell \n",
    "G = graphs.Grid2d(64,64)\n",
    "L = G.L"
   ]
  },
  {
   "cell_type": "markdown",
   "metadata": {},
   "source": [
    ">To get x, apply the $\\textbf{Cholesky decomposition}$ to ( $M+\\alpha L$ ) and then solve the stated equation applying np.linalg.inv() to the two terms multiplied by x ( note that L is given by the code cell above )\n",
    "- check the soloution with \"np.linalg.solve()\""
   ]
  },
  {
   "cell_type": "code",
   "execution_count": null,
   "metadata": {
    "ExecuteTime": {
     "end_time": "2023-11-10T05:07:07.635603Z",
     "start_time": "2023-11-10T05:07:07.635603Z"
    }
   },
   "outputs": [],
   "source": [
    "# Code cell"
   ]
  },
  {
   "cell_type": "markdown",
   "metadata": {},
   "source": [
    ">For values of alpha 0.001 , 0.1 , 10 and p values 50 , 75 display the original, the damaged and the Inpainted image in subplots"
   ]
  },
  {
   "cell_type": "code",
   "execution_count": null,
   "metadata": {
    "ExecuteTime": {
     "end_time": "2023-11-10T05:07:07.637598Z",
     "start_time": "2023-11-10T05:07:07.637598Z"
    }
   },
   "outputs": [],
   "source": [
    "# Code cell"
   ]
  }
 ],
 "metadata": {
  "colab": {
   "provenance": []
  },
  "kernelspec": {
   "display_name": "Python 3 (ipykernel)",
   "language": "python",
   "name": "python3"
  },
  "language_info": {
   "codemirror_mode": {
    "name": "ipython",
    "version": 3
   },
   "file_extension": ".py",
   "mimetype": "text/x-python",
   "name": "python",
   "nbconvert_exporter": "python",
   "pygments_lexer": "ipython3",
   "version": "3.11.4"
  },
  "vscode": {
   "interpreter": {
    "hash": "a552c2ea7a7b6736ba4a8b66efcb40eda8d77c5e9d980e5b81f29aecaaefb085"
   }
  }
 },
 "nbformat": 4,
 "nbformat_minor": 1
}
